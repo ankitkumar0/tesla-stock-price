{
 "cells": [
  {
   "cell_type": "markdown",
   "metadata": {},
   "source": [
    "# Tesla Stock Price Prediction with Machine Learning"
   ]
  },
  {
   "cell_type": "markdown",
   "metadata": {},
   "source": [
    "Predicting Stock prices is a great use case of machine learning both for financial and time series analysis. Tesla has been in the eyes of the world for a long time now as governments of so many countries all over the world are supporting the vision of Tesla. So in this article, I will take you through a tutorial on how to use the Facebook Prophet model for the task of stock price prediction of Tesla.\n",
    "\n",
    "The dataset that I will be using here has been downloaded from yahoo finance. To download this dataset simply visit yahoo finance and search for TSLA. You will see a dashboard as shown in the image below"
   ]
  },
  {
   "cell_type": "code",
   "execution_count": 1,
   "metadata": {},
   "outputs": [],
   "source": [
    "import pandas as pd"
   ]
  },
  {
   "cell_type": "code",
   "execution_count": 2,
   "metadata": {},
   "outputs": [],
   "source": [
    "import numpy as np"
   ]
  },
  {
   "cell_type": "code",
   "execution_count": 3,
   "metadata": {},
   "outputs": [],
   "source": [
    "import matplotlib.pyplot as plt"
   ]
  },
  {
   "cell_type": "code",
   "execution_count": 9,
   "metadata": {},
   "outputs": [],
   "source": [
    "from fbprophet import Prophet"
   ]
  },
  {
   "cell_type": "code",
   "execution_count": 11,
   "metadata": {},
   "outputs": [],
   "source": [
    "import os"
   ]
  },
  {
   "cell_type": "code",
   "execution_count": 13,
   "metadata": {},
   "outputs": [],
   "source": [
    "os.chdir(\"E:\\\\PYTHON NOTES\\\\projects\\\\100 data science projeect\\\\tesla stoke price\")"
   ]
  },
  {
   "cell_type": "code",
   "execution_count": 14,
   "metadata": {},
   "outputs": [],
   "source": [
    "data=pd.read_csv(\"TSLA.csv\")"
   ]
  },
  {
   "cell_type": "code",
   "execution_count": 15,
   "metadata": {},
   "outputs": [
    {
     "data": {
      "text/html": [
       "<div>\n",
       "<style scoped>\n",
       "    .dataframe tbody tr th:only-of-type {\n",
       "        vertical-align: middle;\n",
       "    }\n",
       "\n",
       "    .dataframe tbody tr th {\n",
       "        vertical-align: top;\n",
       "    }\n",
       "\n",
       "    .dataframe thead th {\n",
       "        text-align: right;\n",
       "    }\n",
       "</style>\n",
       "<table border=\"1\" class=\"dataframe\">\n",
       "  <thead>\n",
       "    <tr style=\"text-align: right;\">\n",
       "      <th></th>\n",
       "      <th>Date</th>\n",
       "      <th>Open</th>\n",
       "      <th>High</th>\n",
       "      <th>Low</th>\n",
       "      <th>Close</th>\n",
       "      <th>Adj Close</th>\n",
       "      <th>Volume</th>\n",
       "    </tr>\n",
       "  </thead>\n",
       "  <tbody>\n",
       "    <tr>\n",
       "      <th>0</th>\n",
       "      <td>2020-04-09</td>\n",
       "      <td>112.417999</td>\n",
       "      <td>115.036003</td>\n",
       "      <td>111.421997</td>\n",
       "      <td>114.599998</td>\n",
       "      <td>114.599998</td>\n",
       "      <td>68250000</td>\n",
       "    </tr>\n",
       "    <tr>\n",
       "      <th>1</th>\n",
       "      <td>2020-04-13</td>\n",
       "      <td>118.031998</td>\n",
       "      <td>130.399994</td>\n",
       "      <td>116.106003</td>\n",
       "      <td>130.190002</td>\n",
       "      <td>130.190002</td>\n",
       "      <td>112377000</td>\n",
       "    </tr>\n",
       "    <tr>\n",
       "      <th>2</th>\n",
       "      <td>2020-04-14</td>\n",
       "      <td>139.794006</td>\n",
       "      <td>148.376007</td>\n",
       "      <td>138.485992</td>\n",
       "      <td>141.977997</td>\n",
       "      <td>141.977997</td>\n",
       "      <td>152882500</td>\n",
       "    </tr>\n",
       "    <tr>\n",
       "      <th>3</th>\n",
       "      <td>2020-04-15</td>\n",
       "      <td>148.399994</td>\n",
       "      <td>150.626007</td>\n",
       "      <td>142.000000</td>\n",
       "      <td>145.966003</td>\n",
       "      <td>145.966003</td>\n",
       "      <td>117885000</td>\n",
       "    </tr>\n",
       "    <tr>\n",
       "      <th>4</th>\n",
       "      <td>2020-04-16</td>\n",
       "      <td>143.388000</td>\n",
       "      <td>151.889999</td>\n",
       "      <td>141.343994</td>\n",
       "      <td>149.042007</td>\n",
       "      <td>149.042007</td>\n",
       "      <td>103289500</td>\n",
       "    </tr>\n",
       "    <tr>\n",
       "      <th>...</th>\n",
       "      <td>...</td>\n",
       "      <td>...</td>\n",
       "      <td>...</td>\n",
       "      <td>...</td>\n",
       "      <td>...</td>\n",
       "      <td>...</td>\n",
       "      <td>...</td>\n",
       "    </tr>\n",
       "    <tr>\n",
       "      <th>246</th>\n",
       "      <td>2021-04-01</td>\n",
       "      <td>688.369995</td>\n",
       "      <td>692.419983</td>\n",
       "      <td>659.419983</td>\n",
       "      <td>661.750000</td>\n",
       "      <td>661.750000</td>\n",
       "      <td>35206300</td>\n",
       "    </tr>\n",
       "    <tr>\n",
       "      <th>247</th>\n",
       "      <td>2021-04-05</td>\n",
       "      <td>707.710022</td>\n",
       "      <td>708.159973</td>\n",
       "      <td>684.700012</td>\n",
       "      <td>691.049988</td>\n",
       "      <td>691.049988</td>\n",
       "      <td>41842800</td>\n",
       "    </tr>\n",
       "    <tr>\n",
       "      <th>248</th>\n",
       "      <td>2021-04-06</td>\n",
       "      <td>690.299988</td>\n",
       "      <td>696.549988</td>\n",
       "      <td>681.369995</td>\n",
       "      <td>691.619995</td>\n",
       "      <td>691.619995</td>\n",
       "      <td>28271800</td>\n",
       "    </tr>\n",
       "    <tr>\n",
       "      <th>249</th>\n",
       "      <td>2021-04-07</td>\n",
       "      <td>687.000000</td>\n",
       "      <td>691.380005</td>\n",
       "      <td>667.840027</td>\n",
       "      <td>670.969971</td>\n",
       "      <td>670.969971</td>\n",
       "      <td>26309400</td>\n",
       "    </tr>\n",
       "    <tr>\n",
       "      <th>250</th>\n",
       "      <td>2021-04-08</td>\n",
       "      <td>677.380005</td>\n",
       "      <td>689.549988</td>\n",
       "      <td>671.650024</td>\n",
       "      <td>683.799988</td>\n",
       "      <td>683.799988</td>\n",
       "      <td>23842600</td>\n",
       "    </tr>\n",
       "  </tbody>\n",
       "</table>\n",
       "<p>251 rows × 7 columns</p>\n",
       "</div>"
      ],
      "text/plain": [
       "           Date        Open        High         Low       Close   Adj Close  \\\n",
       "0    2020-04-09  112.417999  115.036003  111.421997  114.599998  114.599998   \n",
       "1    2020-04-13  118.031998  130.399994  116.106003  130.190002  130.190002   \n",
       "2    2020-04-14  139.794006  148.376007  138.485992  141.977997  141.977997   \n",
       "3    2020-04-15  148.399994  150.626007  142.000000  145.966003  145.966003   \n",
       "4    2020-04-16  143.388000  151.889999  141.343994  149.042007  149.042007   \n",
       "..          ...         ...         ...         ...         ...         ...   \n",
       "246  2021-04-01  688.369995  692.419983  659.419983  661.750000  661.750000   \n",
       "247  2021-04-05  707.710022  708.159973  684.700012  691.049988  691.049988   \n",
       "248  2021-04-06  690.299988  696.549988  681.369995  691.619995  691.619995   \n",
       "249  2021-04-07  687.000000  691.380005  667.840027  670.969971  670.969971   \n",
       "250  2021-04-08  677.380005  689.549988  671.650024  683.799988  683.799988   \n",
       "\n",
       "        Volume  \n",
       "0     68250000  \n",
       "1    112377000  \n",
       "2    152882500  \n",
       "3    117885000  \n",
       "4    103289500  \n",
       "..         ...  \n",
       "246   35206300  \n",
       "247   41842800  \n",
       "248   28271800  \n",
       "249   26309400  \n",
       "250   23842600  \n",
       "\n",
       "[251 rows x 7 columns]"
      ]
     },
     "execution_count": 15,
     "metadata": {},
     "output_type": "execute_result"
    }
   ],
   "source": [
    "data"
   ]
  },
  {
   "cell_type": "markdown",
   "metadata": {},
   "source": [
    "Before moving forward let’s visualize the “Close” column in the dataset which represents close prices of each day:"
   ]
  },
  {
   "cell_type": "code",
   "execution_count": 20,
   "metadata": {},
   "outputs": [
    {
     "data": {
      "text/plain": [
       "Text(0, 0.5, 'close')"
      ]
     },
     "execution_count": 20,
     "metadata": {},
     "output_type": "execute_result"
    },
    {
     "data": {
      "image/png": "[encoded data removed]",
      "text/plain": [
       "<Figure size 432x288 with 1 Axes>"
      ]
     },
     "metadata": {
      "needs_background": "light"
     },
     "output_type": "display_data"
    }
   ],
   "source": [
    "close=data[\"Close\"]\n",
    "ax=close.plot(title=\"Tesla\")\n",
    "ax.set_xlabel(\"Date\")\n",
    "ax.set_ylabel(\"close\")"
   ]
  },
  {
   "cell_type": "markdown",
   "metadata": {},
   "source": [
    "We only need two columns from this dataset (Date and Close), so let’s create a new DataFrame with only these two columns:"
   ]
  },
  {
   "cell_type": "code",
   "execution_count": 21,
   "metadata": {},
   "outputs": [],
   "source": [
    "data[\"Date\"]=pd.to_datetime(data[\"Date\"],infer_datetime_format=\"True\")"
   ]
  },
  {
   "cell_type": "code",
   "execution_count": 24,
   "metadata": {},
   "outputs": [],
   "source": [
    "data=data[[\"Date\",\"Close\"]]"
   ]
  },
  {
   "cell_type": "code",
   "execution_count": 25,
   "metadata": {},
   "outputs": [
    {
     "data": {
      "text/html": [
       "<div>\n",
       "<style scoped>\n",
       "    .dataframe tbody tr th:only-of-type {\n",
       "        vertical-align: middle;\n",
       "    }\n",
       "\n",
       "    .dataframe tbody tr th {\n",
       "        vertical-align: top;\n",
       "    }\n",
       "\n",
       "    .dataframe thead th {\n",
       "        text-align: right;\n",
       "    }\n",
       "</style>\n",
       "<table border=\"1\" class=\"dataframe\">\n",
       "  <thead>\n",
       "    <tr style=\"text-align: right;\">\n",
       "      <th></th>\n",
       "      <th>Date</th>\n",
       "      <th>Close</th>\n",
       "    </tr>\n",
       "  </thead>\n",
       "  <tbody>\n",
       "    <tr>\n",
       "      <th>0</th>\n",
       "      <td>2020-04-09</td>\n",
       "      <td>114.599998</td>\n",
       "    </tr>\n",
       "    <tr>\n",
       "      <th>1</th>\n",
       "      <td>2020-04-13</td>\n",
       "      <td>130.190002</td>\n",
       "    </tr>\n",
       "    <tr>\n",
       "      <th>2</th>\n",
       "      <td>2020-04-14</td>\n",
       "      <td>141.977997</td>\n",
       "    </tr>\n",
       "    <tr>\n",
       "      <th>3</th>\n",
       "      <td>2020-04-15</td>\n",
       "      <td>145.966003</td>\n",
       "    </tr>\n",
       "    <tr>\n",
       "      <th>4</th>\n",
       "      <td>2020-04-16</td>\n",
       "      <td>149.042007</td>\n",
       "    </tr>\n",
       "    <tr>\n",
       "      <th>...</th>\n",
       "      <td>...</td>\n",
       "      <td>...</td>\n",
       "    </tr>\n",
       "    <tr>\n",
       "      <th>246</th>\n",
       "      <td>2021-04-01</td>\n",
       "      <td>661.750000</td>\n",
       "    </tr>\n",
       "    <tr>\n",
       "      <th>247</th>\n",
       "      <td>2021-04-05</td>\n",
       "      <td>691.049988</td>\n",
       "    </tr>\n",
       "    <tr>\n",
       "      <th>248</th>\n",
       "      <td>2021-04-06</td>\n",
       "      <td>691.619995</td>\n",
       "    </tr>\n",
       "    <tr>\n",
       "      <th>249</th>\n",
       "      <td>2021-04-07</td>\n",
       "      <td>670.969971</td>\n",
       "    </tr>\n",
       "    <tr>\n",
       "      <th>250</th>\n",
       "      <td>2021-04-08</td>\n",
       "      <td>683.799988</td>\n",
       "    </tr>\n",
       "  </tbody>\n",
       "</table>\n",
       "<p>251 rows × 2 columns</p>\n",
       "</div>"
      ],
      "text/plain": [
       "          Date       Close\n",
       "0   2020-04-09  114.599998\n",
       "1   2020-04-13  130.190002\n",
       "2   2020-04-14  141.977997\n",
       "3   2020-04-15  145.966003\n",
       "4   2020-04-16  149.042007\n",
       "..         ...         ...\n",
       "246 2021-04-01  661.750000\n",
       "247 2021-04-05  691.049988\n",
       "248 2021-04-06  691.619995\n",
       "249 2021-04-07  670.969971\n",
       "250 2021-04-08  683.799988\n",
       "\n",
       "[251 rows x 2 columns]"
      ]
     },
     "execution_count": 25,
     "metadata": {},
     "output_type": "execute_result"
    }
   ],
   "source": [
    "data"
   ]
  },
  {
   "cell_type": "markdown",
   "metadata": {},
   "source": [
    "As we are using the Facebook prophet model here for predicting the stock prices of Tesla so we need to rename the columns"
   ]
  },
  {
   "cell_type": "code",
   "execution_count": 26,
   "metadata": {},
   "outputs": [],
   "source": [
    "data=data.rename(columns={\"Date\":\"ds\",\"Close\":\"y\"})"
   ]
  },
  {
   "cell_type": "code",
   "execution_count": 27,
   "metadata": {},
   "outputs": [
    {
     "data": {
      "text/html": [
       "<div>\n",
       "<style scoped>\n",
       "    .dataframe tbody tr th:only-of-type {\n",
       "        vertical-align: middle;\n",
       "    }\n",
       "\n",
       "    .dataframe tbody tr th {\n",
       "        vertical-align: top;\n",
       "    }\n",
       "\n",
       "    .dataframe thead th {\n",
       "        text-align: right;\n",
       "    }\n",
       "</style>\n",
       "<table border=\"1\" class=\"dataframe\">\n",
       "  <thead>\n",
       "    <tr style=\"text-align: right;\">\n",
       "      <th></th>\n",
       "      <th>ds</th>\n",
       "      <th>y</th>\n",
       "    </tr>\n",
       "  </thead>\n",
       "  <tbody>\n",
       "    <tr>\n",
       "      <th>0</th>\n",
       "      <td>2020-04-09</td>\n",
       "      <td>114.599998</td>\n",
       "    </tr>\n",
       "    <tr>\n",
       "      <th>1</th>\n",
       "      <td>2020-04-13</td>\n",
       "      <td>130.190002</td>\n",
       "    </tr>\n",
       "    <tr>\n",
       "      <th>2</th>\n",
       "      <td>2020-04-14</td>\n",
       "      <td>141.977997</td>\n",
       "    </tr>\n",
       "    <tr>\n",
       "      <th>3</th>\n",
       "      <td>2020-04-15</td>\n",
       "      <td>145.966003</td>\n",
       "    </tr>\n",
       "    <tr>\n",
       "      <th>4</th>\n",
       "      <td>2020-04-16</td>\n",
       "      <td>149.042007</td>\n",
       "    </tr>\n",
       "    <tr>\n",
       "      <th>...</th>\n",
       "      <td>...</td>\n",
       "      <td>...</td>\n",
       "    </tr>\n",
       "    <tr>\n",
       "      <th>246</th>\n",
       "      <td>2021-04-01</td>\n",
       "      <td>661.750000</td>\n",
       "    </tr>\n",
       "    <tr>\n",
       "      <th>247</th>\n",
       "      <td>2021-04-05</td>\n",
       "      <td>691.049988</td>\n",
       "    </tr>\n",
       "    <tr>\n",
       "      <th>248</th>\n",
       "      <td>2021-04-06</td>\n",
       "      <td>691.619995</td>\n",
       "    </tr>\n",
       "    <tr>\n",
       "      <th>249</th>\n",
       "      <td>2021-04-07</td>\n",
       "      <td>670.969971</td>\n",
       "    </tr>\n",
       "    <tr>\n",
       "      <th>250</th>\n",
       "      <td>2021-04-08</td>\n",
       "      <td>683.799988</td>\n",
       "    </tr>\n",
       "  </tbody>\n",
       "</table>\n",
       "<p>251 rows × 2 columns</p>\n",
       "</div>"
      ],
      "text/plain": [
       "            ds           y\n",
       "0   2020-04-09  114.599998\n",
       "1   2020-04-13  130.190002\n",
       "2   2020-04-14  141.977997\n",
       "3   2020-04-15  145.966003\n",
       "4   2020-04-16  149.042007\n",
       "..         ...         ...\n",
       "246 2021-04-01  661.750000\n",
       "247 2021-04-05  691.049988\n",
       "248 2021-04-06  691.619995\n",
       "249 2021-04-07  670.969971\n",
       "250 2021-04-08  683.799988\n",
       "\n",
       "[251 rows x 2 columns]"
      ]
     },
     "execution_count": 27,
     "metadata": {},
     "output_type": "execute_result"
    }
   ],
   "source": [
    "data"
   ]
  },
  {
   "cell_type": "code",
   "execution_count": 29,
   "metadata": {},
   "outputs": [],
   "source": [
    "model=Prophet()"
   ]
  },
  {
   "cell_type": "code",
   "execution_count": 30,
   "metadata": {},
   "outputs": [
    {
     "name": "stderr",
     "output_type": "stream",
     "text": [
      "INFO:fbprophet:Disabling yearly seasonality. Run prophet with yearly_seasonality=True to override this.\n",
      "INFO:fbprophet:Disabling daily seasonality. Run prophet with daily_seasonality=True to override this.\n",
      "C:\\ProgramData\\Anaconda3\\lib\\site-packages\\fbprophet\\forecaster.py:400: FutureWarning: The pandas.datetime class is deprecated and will be removed from pandas in a future version. Import from datetime module instead.\n",
      "  (dates - pd.datetime(1970, 1, 1))\n"
     ]
    },
    {
     "data": {
      "text/plain": [
       "<fbprophet.forecaster.Prophet at 0x2bdf3128>"
      ]
     },
     "execution_count": 30,
     "metadata": {},
     "output_type": "execute_result"
    }
   ],
   "source": [
    "model.fit(data)"
   ]
  },
  {
   "cell_type": "code",
   "execution_count": 32,
   "metadata": {},
   "outputs": [],
   "source": [
    "future=model.make_future_dataframe(periods=365)\n"
   ]
  },
  {
   "cell_type": "code",
   "execution_count": 34,
   "metadata": {},
   "outputs": [
    {
     "name": "stderr",
     "output_type": "stream",
     "text": [
      "C:\\ProgramData\\Anaconda3\\lib\\site-packages\\fbprophet\\forecaster.py:400: FutureWarning: The pandas.datetime class is deprecated and will be removed from pandas in a future version. Import from datetime module instead.\n",
      "  (dates - pd.datetime(1970, 1, 1))\n",
      "C:\\ProgramData\\Anaconda3\\lib\\site-packages\\fbprophet\\forecaster.py:400: FutureWarning: The pandas.datetime class is deprecated and will be removed from pandas in a future version. Import from datetime module instead.\n",
      "  (dates - pd.datetime(1970, 1, 1))\n"
     ]
    }
   ],
   "source": [
    "forcast=model.predict(future)"
   ]
  },
  {
   "cell_type": "code",
   "execution_count": 37,
   "metadata": {},
   "outputs": [
    {
     "data": {
      "text/html": [
       "<div>\n",
       "<style scoped>\n",
       "    .dataframe tbody tr th:only-of-type {\n",
       "        vertical-align: middle;\n",
       "    }\n",
       "\n",
       "    .dataframe tbody tr th {\n",
       "        vertical-align: top;\n",
       "    }\n",
       "\n",
       "    .dataframe thead th {\n",
       "        text-align: right;\n",
       "    }\n",
       "</style>\n",
       "<table border=\"1\" class=\"dataframe\">\n",
       "  <thead>\n",
       "    <tr style=\"text-align: right;\">\n",
       "      <th></th>\n",
       "      <th>ds</th>\n",
       "      <th>yhat</th>\n",
       "      <th>yhat_lower</th>\n",
       "      <th>yhat_upper</th>\n",
       "    </tr>\n",
       "  </thead>\n",
       "  <tbody>\n",
       "    <tr>\n",
       "      <th>611</th>\n",
       "      <td>2022-04-04</td>\n",
       "      <td>-378.662608</td>\n",
       "      <td>-1313.359299</td>\n",
       "      <td>561.904978</td>\n",
       "    </tr>\n",
       "    <tr>\n",
       "      <th>612</th>\n",
       "      <td>2022-04-05</td>\n",
       "      <td>-379.905525</td>\n",
       "      <td>-1313.808786</td>\n",
       "      <td>577.977330</td>\n",
       "    </tr>\n",
       "    <tr>\n",
       "      <th>613</th>\n",
       "      <td>2022-04-06</td>\n",
       "      <td>-382.583541</td>\n",
       "      <td>-1322.936244</td>\n",
       "      <td>568.347260</td>\n",
       "    </tr>\n",
       "    <tr>\n",
       "      <th>614</th>\n",
       "      <td>2022-04-07</td>\n",
       "      <td>-385.871475</td>\n",
       "      <td>-1338.865196</td>\n",
       "      <td>553.897647</td>\n",
       "    </tr>\n",
       "    <tr>\n",
       "      <th>615</th>\n",
       "      <td>2022-04-08</td>\n",
       "      <td>-390.858766</td>\n",
       "      <td>-1328.956976</td>\n",
       "      <td>562.935504</td>\n",
       "    </tr>\n",
       "  </tbody>\n",
       "</table>\n",
       "</div>"
      ],
      "text/plain": [
       "            ds        yhat   yhat_lower  yhat_upper\n",
       "611 2022-04-04 -378.662608 -1313.359299  561.904978\n",
       "612 2022-04-05 -379.905525 -1313.808786  577.977330\n",
       "613 2022-04-06 -382.583541 -1322.936244  568.347260\n",
       "614 2022-04-07 -385.871475 -1338.865196  553.897647\n",
       "615 2022-04-08 -390.858766 -1328.956976  562.935504"
      ]
     },
     "execution_count": 37,
     "metadata": {},
     "output_type": "execute_result"
    }
   ],
   "source": [
    "forcast[[\"ds\",\"yhat\",\"yhat_lower\",\"yhat_upper\"]].tail()"
   ]
  },
  {
   "cell_type": "code",
   "execution_count": 43,
   "metadata": {},
   "outputs": [
    {
     "data": {
      "image/png": "[encoded data removed]",
      "text/plain": [
       "<Figure size 720x432 with 1 Axes>"
      ]
     },
     "metadata": {},
     "output_type": "display_data"
    }
   ],
   "source": [
    "graph=model.plot(forcast,xlabel=\"Date\",ylabel=\"price\")"
   ]
  },
  {
   "cell_type": "markdown",
   "metadata": {},
   "source": [
    "# Conclusion"
   ]
  },
  {
   "cell_type": "markdown",
   "metadata": {},
   "source": [
    "\n",
    "It seems like Tesla’s stock prices will decrease in the coming future if they don’t come up with a new idea of representing their vision."
   ]
  },
  {
   "cell_type": "code",
   "execution_count": null,
   "metadata": {},
   "outputs": [],
   "source": []
  }
 ],
 "metadata": {
  "kernelspec": {
   "display_name": "Python 3",
   "language": "python",
   "name": "python3"
  },
  "language_info": {
   "codemirror_mode": {
    "name": "ipython",
    "version": 3
   },
   "file_extension": ".py",
   "mimetype": "text/x-python",
   "name": "python",
   "nbconvert_exporter": "python",
   "pygments_lexer": "ipython3",
   "version": "3.7.1"
  }
 },
 "nbformat": 4,
 "nbformat_minor": 2
}
